{
 "cells": [
  {
   "cell_type": "code",
   "execution_count": 1,
   "id": "dd122b46-1784-4ec1-8d33-622bec654ec5",
   "metadata": {},
   "outputs": [],
   "source": [
    "import numpy as np"
   ]
  },
  {
   "cell_type": "code",
   "execution_count": 3,
   "id": "80645974-c4ad-4d53-8cd5-6627e266da38",
   "metadata": {},
   "outputs": [],
   "source": [
    "high_var_array = ([1, 100, 200, 300, 4000, 5000])\n",
    "low_var_array = ([2, 4, 6, 8, 10])"
   ]
  },
  {
   "cell_type": "code",
   "execution_count": 5,
   "id": "5310e508-43d2-47a7-b37c-743deed82b00",
   "metadata": {},
   "outputs": [
    {
     "data": {
      "text/plain": [
       "(4296133.472222221, 8.0)"
      ]
     },
     "execution_count": 5,
     "metadata": {},
     "output_type": "execute_result"
    }
   ],
   "source": [
    "#let's check the variance of these two\n",
    "np.var(high_var_array), np.var(low_var_array)"
   ]
  },
  {
   "cell_type": "code",
   "execution_count": 7,
   "id": "daafae15-086a-4336-b48b-277de0c2a74c",
   "metadata": {},
   "outputs": [],
   "source": [
    "#yes for the high var array the variance is higher and for the low var array the variance is lower"
   ]
  },
  {
   "cell_type": "code",
   "execution_count": 9,
   "id": "348859b3-aa88-4c1a-8049-dafed777f86e",
   "metadata": {},
   "outputs": [
    {
     "data": {
      "text/plain": [
       "(2072.711623024829, 2.8284271247461903)"
      ]
     },
     "execution_count": 9,
     "metadata": {},
     "output_type": "execute_result"
    }
   ],
   "source": [
    "#now lets check the standart deviation of these arrays\n",
    "np.std(high_var_array), np.std(low_var_array)"
   ]
  },
  {
   "cell_type": "code",
   "execution_count": 11,
   "id": "f0f30904-abe3-4a52-828a-c956eca00f70",
   "metadata": {},
   "outputs": [],
   "source": [
    "#and you can see the difference here as well"
   ]
  },
  {
   "cell_type": "code",
   "execution_count": null,
   "id": "7212b594-a41f-4273-ab88-3f76874fb022",
   "metadata": {},
   "outputs": [],
   "source": []
  }
 ],
 "metadata": {
  "kernelspec": {
   "display_name": "Python 3 (ipykernel)",
   "language": "python",
   "name": "python3"
  },
  "language_info": {
   "codemirror_mode": {
    "name": "ipython",
    "version": 3
   },
   "file_extension": ".py",
   "mimetype": "text/x-python",
   "name": "python",
   "nbconvert_exporter": "python",
   "pygments_lexer": "ipython3",
   "version": "3.12.4"
  }
 },
 "nbformat": 4,
 "nbformat_minor": 5
}
