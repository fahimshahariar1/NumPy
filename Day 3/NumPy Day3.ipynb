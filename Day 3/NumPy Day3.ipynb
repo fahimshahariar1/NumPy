{
 "cells": [
  {
   "cell_type": "markdown",
   "id": "afacd9a8-7a66-417c-9295-3b60155c42d9",
   "metadata": {},
   "source": [
    "## Viwing Arrays and Matrices"
   ]
  },
  {
   "cell_type": "code",
   "execution_count": 2,
   "id": "9ca14740-85e7-43e5-b818-d1f61ff1e4ee",
   "metadata": {},
   "outputs": [],
   "source": [
    "import numpy as np"
   ]
  },
  {
   "cell_type": "code",
   "execution_count": 3,
   "id": "972b28fe-f9ad-4c6e-a89d-b1bc788d082c",
   "metadata": {},
   "outputs": [
    {
     "data": {
      "text/plain": [
       "array([[2, 1, 1],\n",
       "       [2, 7, 0],\n",
       "       [4, 0, 8]])"
      ]
     },
     "execution_count": 3,
     "metadata": {},
     "output_type": "execute_result"
    }
   ],
   "source": [
    "sample_array = np.random.randint(0, 10, size = (3,3))\n",
    "sample_array"
   ]
  },
  {
   "cell_type": "code",
   "execution_count": 4,
   "id": "1ba734b3-1b0b-4dda-98ed-110af298e3ba",
   "metadata": {},
   "outputs": [
    {
     "data": {
      "text/plain": [
       "array([0, 1, 2, 4, 7, 8])"
      ]
     },
     "execution_count": 4,
     "metadata": {},
     "output_type": "execute_result"
    }
   ],
   "source": [
    "#to find out the unique numbers from that array\n",
    "np.unique(sample_array)"
   ]
  },
  {
   "cell_type": "code",
   "execution_count": 5,
   "id": "07a43415-7ef9-4d5f-822c-061fef67cfc5",
   "metadata": {},
   "outputs": [],
   "source": [
    "#let's create some arrays as we did previously\n",
    "a1 = np.array([1,2,3])"
   ]
  },
  {
   "cell_type": "code",
   "execution_count": 6,
   "id": "80d4e5d7-df53-445a-8aa0-04440e01ad29",
   "metadata": {},
   "outputs": [],
   "source": [
    "a2 = np.array([[1, 2.0, 3.3],\n",
    "             [4, 5, 6.5]])"
   ]
  },
  {
   "cell_type": "code",
   "execution_count": 7,
   "id": "36c70975-c54a-4153-b1ea-5e5d6fc1728d",
   "metadata": {},
   "outputs": [],
   "source": [
    "a3 = np.array([[[1, 2, 3],\n",
    "               [4, 5, 6],\n",
    "              [7, 8, 9]],\n",
    "              \n",
    "              [[10, 11, 12],\n",
    "               [13, 14, 15],\n",
    "              [16, 17, 18]]])"
   ]
  },
  {
   "cell_type": "code",
   "execution_count": 8,
   "id": "0d59bcb3-8f6b-4902-9845-1b8247a861fb",
   "metadata": {},
   "outputs": [
    {
     "data": {
      "text/plain": [
       "1"
      ]
     },
     "execution_count": 8,
     "metadata": {},
     "output_type": "execute_result"
    }
   ],
   "source": [
    "#what if we want to return the first index of each arrays\n",
    "a1[0]"
   ]
  },
  {
   "cell_type": "code",
   "execution_count": 9,
   "id": "eed91990-1f00-4a83-93c0-1cbb7b683a45",
   "metadata": {},
   "outputs": [
    {
     "data": {
      "text/plain": [
       "array([1. , 2. , 3.3])"
      ]
     },
     "execution_count": 9,
     "metadata": {},
     "output_type": "execute_result"
    }
   ],
   "source": [
    "a2[0]"
   ]
  },
  {
   "cell_type": "code",
   "execution_count": 10,
   "id": "20dc4236-418e-446b-946b-21644170f4ed",
   "metadata": {},
   "outputs": [
    {
     "data": {
      "text/plain": [
       "array([[1, 2, 3],\n",
       "       [4, 5, 6],\n",
       "       [7, 8, 9]])"
      ]
     },
     "execution_count": 10,
     "metadata": {},
     "output_type": "execute_result"
    }
   ],
   "source": [
    "a3[0]"
   ]
  },
  {
   "cell_type": "code",
   "execution_count": 11,
   "id": "8eca7203-32aa-4772-8bfa-6584b25dd38a",
   "metadata": {},
   "outputs": [],
   "source": [
    "#see this is returning all the values at index 0 based on their dimensions\n",
    "#for a1 array as its 1 dimension and a vector so it returns just the first number\n",
    "#but for a2 and a3 as they are multi-dimensional matrices they return the array value at the index"
   ]
  },
  {
   "cell_type": "code",
   "execution_count": 12,
   "id": "d9b94d36-6e95-43c0-8ea3-a747a5cdc573",
   "metadata": {},
   "outputs": [
    {
     "data": {
      "text/plain": [
       "array([1, 2])"
      ]
     },
     "execution_count": 12,
     "metadata": {},
     "output_type": "execute_result"
    }
   ],
   "source": [
    "#we can also slice the matrices like Python list\n",
    "a1[:2]"
   ]
  },
  {
   "cell_type": "code",
   "execution_count": 13,
   "id": "d8fa7be1-0c58-4328-87d1-3f8e3e039604",
   "metadata": {},
   "outputs": [
    {
     "data": {
      "text/plain": [
       "array([[1. , 2. , 3.3]])"
      ]
     },
     "execution_count": 13,
     "metadata": {},
     "output_type": "execute_result"
    }
   ],
   "source": [
    "a2[:1]"
   ]
  },
  {
   "cell_type": "code",
   "execution_count": 14,
   "id": "6b9383b4-53ef-4bd7-8c74-9e8ffa98513f",
   "metadata": {},
   "outputs": [
    {
     "data": {
      "text/plain": [
       "3"
      ]
     },
     "execution_count": 14,
     "metadata": {},
     "output_type": "execute_result"
    }
   ],
   "source": [
    "a3.ndim"
   ]
  },
  {
   "cell_type": "code",
   "execution_count": 15,
   "id": "48a17548-dd92-416f-a0e6-d42951cd2c65",
   "metadata": {},
   "outputs": [
    {
     "data": {
      "text/plain": [
       "array([[[1, 2],\n",
       "        [4, 5]]])"
      ]
     },
     "execution_count": 15,
     "metadata": {},
     "output_type": "execute_result"
    }
   ],
   "source": [
    "#as a3 array is multi-dimensional we need to slice it in a different way\n",
    "#as a2 is 2 3 3 dimensional that's why you need to put values for each parameter to slice it\n",
    "a3[:1, :2, :2]"
   ]
  },
  {
   "cell_type": "code",
   "execution_count": 16,
   "id": "b76164cd-2060-40b7-9f1b-f57d1b209856",
   "metadata": {},
   "outputs": [
    {
     "data": {
      "text/plain": [
       "array([[[[3, 8, 7, 4, 9],\n",
       "         [1, 1, 0, 5, 8],\n",
       "         [1, 3, 3, 4, 0],\n",
       "         [7, 4, 7, 1, 9]],\n",
       "\n",
       "        [[6, 4, 0, 2, 0],\n",
       "         [1, 8, 2, 1, 2],\n",
       "         [3, 8, 2, 0, 1],\n",
       "         [3, 6, 9, 5, 0]],\n",
       "\n",
       "        [[3, 4, 2, 2, 6],\n",
       "         [9, 7, 1, 4, 8],\n",
       "         [8, 7, 6, 4, 4],\n",
       "         [7, 3, 6, 2, 5]]],\n",
       "\n",
       "\n",
       "       [[[6, 0, 7, 3, 0],\n",
       "         [5, 4, 1, 7, 3],\n",
       "         [0, 0, 0, 6, 9],\n",
       "         [2, 7, 0, 8, 3]],\n",
       "\n",
       "        [[7, 6, 7, 2, 5],\n",
       "         [6, 7, 2, 9, 9],\n",
       "         [0, 4, 1, 1, 3],\n",
       "         [8, 2, 1, 9, 4]],\n",
       "\n",
       "        [[7, 8, 5, 7, 7],\n",
       "         [4, 9, 6, 1, 6],\n",
       "         [9, 2, 1, 1, 1],\n",
       "         [3, 7, 6, 1, 0]]]])"
      ]
     },
     "execution_count": 16,
     "metadata": {},
     "output_type": "execute_result"
    }
   ],
   "source": [
    "#lets create more complex array\n",
    "a4 = np.random.randint(10, size=(2,3,4,5))\n",
    "a4"
   ]
  },
  {
   "cell_type": "code",
   "execution_count": 17,
   "id": "fc5143b9-8f1b-401c-a5f5-03fb1b411c2e",
   "metadata": {},
   "outputs": [
    {
     "data": {
      "text/plain": [
       "((2, 3, 3), 4)"
      ]
     },
     "execution_count": 17,
     "metadata": {},
     "output_type": "execute_result"
    }
   ],
   "source": [
    "#now if we check its dimensions\n",
    "a3.shape, a4.ndim"
   ]
  },
  {
   "cell_type": "code",
   "execution_count": 18,
   "id": "a0c30237-338b-4e2b-8838-8fbb04079324",
   "metadata": {},
   "outputs": [
    {
     "data": {
      "text/plain": [
       "array([[[[3, 8],\n",
       "         [1, 1],\n",
       "         [1, 3],\n",
       "         [7, 4]],\n",
       "\n",
       "        [[6, 4],\n",
       "         [1, 8],\n",
       "         [3, 8],\n",
       "         [3, 6]],\n",
       "\n",
       "        [[3, 4],\n",
       "         [9, 7],\n",
       "         [8, 7],\n",
       "         [7, 3]]],\n",
       "\n",
       "\n",
       "       [[[6, 0],\n",
       "         [5, 4],\n",
       "         [0, 0],\n",
       "         [2, 7]],\n",
       "\n",
       "        [[7, 6],\n",
       "         [6, 7],\n",
       "         [0, 4],\n",
       "         [8, 2]],\n",
       "\n",
       "        [[7, 8],\n",
       "         [4, 9],\n",
       "         [9, 2],\n",
       "         [3, 7]]]])"
      ]
     },
     "execution_count": 18,
     "metadata": {},
     "output_type": "execute_result"
    }
   ],
   "source": [
    "#you will see it as a 4-dimensional array. Now if we want to slice it we will have to include parameters accoring to its size\n",
    "a4[:, :, :, :2]"
   ]
  },
  {
   "cell_type": "code",
   "execution_count": 19,
   "id": "558ce6e1-bb62-42a8-8ab7-6cbf4a69adb4",
   "metadata": {},
   "outputs": [],
   "source": [
    "#that's how we can view our matrices in different ways"
   ]
  }
 ],
 "metadata": {
  "kernelspec": {
   "display_name": "Python 3 (ipykernel)",
   "language": "python",
   "name": "python3"
  },
  "language_info": {
   "codemirror_mode": {
    "name": "ipython",
    "version": 3
   },
   "file_extension": ".py",
   "mimetype": "text/x-python",
   "name": "python",
   "nbconvert_exporter": "python",
   "pygments_lexer": "ipython3",
   "version": "3.12.4"
  }
 },
 "nbformat": 4,
 "nbformat_minor": 5
}
