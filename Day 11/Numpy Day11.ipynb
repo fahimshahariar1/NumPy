{
 "cells": [
  {
   "cell_type": "markdown",
   "id": "d8b15444-3544-4b79-9f5e-69f2324d7dc6",
   "metadata": {},
   "source": [
    "## Turning images into an array"
   ]
  },
  {
   "cell_type": "markdown",
   "id": "eb4caf81-c1f1-4065-ae00-e67340ff7ffb",
   "metadata": {},
   "source": [
    "<img src = \"Resources/panda.jpg\"/>"
   ]
  },
  {
   "cell_type": "code",
   "execution_count": 14,
   "id": "7cdd0cff-4ee4-464e-a304-7fd7a88725dd",
   "metadata": {},
   "outputs": [],
   "source": [
    "#turning images into numpy array\n",
    "from matplotlib.image import imread"
   ]
  },
  {
   "cell_type": "code",
   "execution_count": 20,
   "id": "e13a664c-816b-4325-8d59-3c47182c0d19",
   "metadata": {},
   "outputs": [
    {
     "data": {
      "text/plain": [
       "numpy.ndarray"
      ]
     },
     "execution_count": 20,
     "metadata": {},
     "output_type": "execute_result"
    }
   ],
   "source": [
    "panda = imread(\"Resources/panda.jpg\")\n",
    "#now if we check the type\n",
    "type(panda)"
   ]
  },
  {
   "cell_type": "code",
   "execution_count": 22,
   "id": "12d16a20-47b6-43c2-856d-b0e43bfebcbf",
   "metadata": {},
   "outputs": [
    {
     "data": {
      "text/plain": [
       "array([[[ 33,  28,  34],\n",
       "        [ 69,  62,  44],\n",
       "        [ 70,  61,  18],\n",
       "        ...,\n",
       "        [ 76, 143,  90],\n",
       "        [ 79, 146,  95],\n",
       "        [ 83, 150,  99]],\n",
       "\n",
       "       [[ 77,  76,  72],\n",
       "        [ 79,  77,  54],\n",
       "        [ 61,  58,  17],\n",
       "        ...,\n",
       "        [ 78, 141,  86],\n",
       "        [ 81, 144,  91],\n",
       "        [ 84, 146,  95]],\n",
       "\n",
       "       [[ 92,  95,  76],\n",
       "        [ 71,  74,  45],\n",
       "        [ 46,  51,  11],\n",
       "        ...,\n",
       "        [ 79, 138,  80],\n",
       "        [ 81, 140,  84],\n",
       "        [ 83, 142,  86]],\n",
       "\n",
       "       ...,\n",
       "\n",
       "       [[ 75, 129,  51],\n",
       "        [ 76, 130,  54],\n",
       "        [ 77, 131,  56],\n",
       "        ...,\n",
       "        [ 59,  83,  61],\n",
       "        [ 59,  83,  61],\n",
       "        [ 59,  83,  61]],\n",
       "\n",
       "       [[ 77, 131,  53],\n",
       "        [ 78, 132,  56],\n",
       "        [ 79, 133,  58],\n",
       "        ...,\n",
       "        [ 60,  84,  62],\n",
       "        [ 60,  84,  62],\n",
       "        [ 60,  84,  62]],\n",
       "\n",
       "       [[ 79, 133,  55],\n",
       "        [ 79, 133,  57],\n",
       "        [ 81, 135,  60],\n",
       "        ...,\n",
       "        [ 61,  85,  63],\n",
       "        [ 61,  85,  63],\n",
       "        [ 61,  85,  63]]], dtype=uint8)"
      ]
     },
     "execution_count": 22,
     "metadata": {},
     "output_type": "execute_result"
    }
   ],
   "source": [
    "#see its now converted to a Numpy array and if we check it\n",
    "panda"
   ]
  },
  {
   "cell_type": "markdown",
   "id": "eab16912-ae16-4080-a690-a310a2cadb5e",
   "metadata": {},
   "source": [
    "### See the image is converted to an array"
   ]
  },
  {
   "cell_type": "code",
   "execution_count": null,
   "id": "563afd6e-2e07-4d9c-91b0-4d98c54d716c",
   "metadata": {},
   "outputs": [],
   "source": []
  }
 ],
 "metadata": {
  "kernelspec": {
   "display_name": "Python 3 (ipykernel)",
   "language": "python",
   "name": "python3"
  },
  "language_info": {
   "codemirror_mode": {
    "name": "ipython",
    "version": 3
   },
   "file_extension": ".py",
   "mimetype": "text/x-python",
   "name": "python",
   "nbconvert_exporter": "python",
   "pygments_lexer": "ipython3",
   "version": "3.12.4"
  }
 },
 "nbformat": 4,
 "nbformat_minor": 5
}
