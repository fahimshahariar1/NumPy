{
 "cells": [
  {
   "cell_type": "markdown",
   "id": "2243a408-4207-44ef-aada-4309264f37e8",
   "metadata": {},
   "source": [
    "## Manipulating & Comparing Part 2"
   ]
  },
  {
   "cell_type": "markdown",
   "id": "28d3c065-d29f-44a8-9c0e-0f277f521997",
   "metadata": {},
   "source": [
    "### Aggregation"
   ]
  },
  {
   "cell_type": "code",
   "execution_count": 3,
   "id": "930cf8e7-1468-416a-bff5-59ba31d689a0",
   "metadata": {},
   "outputs": [],
   "source": [
    "import numpy as np"
   ]
  },
  {
   "cell_type": "code",
   "execution_count": 4,
   "id": "a06f9c0e-e5b5-404a-a338-d046664dfbae",
   "metadata": {},
   "outputs": [],
   "source": [
    "a1 = np.array([1,2,3])"
   ]
  },
  {
   "cell_type": "code",
   "execution_count": 5,
   "id": "ac1b7375-e0fe-4c5c-b7dd-e5ed193a79e0",
   "metadata": {},
   "outputs": [
    {
     "data": {
      "text/plain": [
       "6"
      ]
     },
     "execution_count": 5,
     "metadata": {},
     "output_type": "execute_result"
    }
   ],
   "source": [
    "# we can either use python's method on this or Numpy's\n",
    "#lets test it out\n",
    "sum(a1)"
   ]
  },
  {
   "cell_type": "code",
   "execution_count": 6,
   "id": "ff67bb96-62a1-4c63-a64b-4ec2ff26913b",
   "metadata": {},
   "outputs": [
    {
     "data": {
      "text/plain": [
       "6"
      ]
     },
     "execution_count": 6,
     "metadata": {},
     "output_type": "execute_result"
    }
   ],
   "source": [
    "np.sum(a1)"
   ]
  },
  {
   "cell_type": "code",
   "execution_count": 7,
   "id": "bbd53c82-8a57-4b38-9a6a-30e9935d21b5",
   "metadata": {},
   "outputs": [],
   "source": [
    "#both have returned the same result but that doesn't really shows us the real or the big picture\n",
    "#lets create a massive array and test"
   ]
  },
  {
   "cell_type": "code",
   "execution_count": 8,
   "id": "f9ea6397-8c86-4b15-bc2a-4604c96d7cf8",
   "metadata": {},
   "outputs": [
    {
     "data": {
      "text/plain": [
       "1000000"
      ]
     },
     "execution_count": 8,
     "metadata": {},
     "output_type": "execute_result"
    }
   ],
   "source": [
    "#this will test the power of Numpy\n",
    "massive_array = np.random.random(1000000)\n",
    "# let's check the size of it\n",
    "np.size(massive_array)"
   ]
  },
  {
   "cell_type": "code",
   "execution_count": 9,
   "id": "4ac25a3c-233a-454a-9325-90eec0564540",
   "metadata": {},
   "outputs": [
    {
     "data": {
      "text/plain": [
       "array([0.50832945, 0.99989044, 0.91438309, 0.67626141, 0.97683858,\n",
       "       0.93941209, 0.32240289, 0.84329968, 0.64518882, 0.0310037 ,\n",
       "       0.44860941, 0.7720846 , 0.40782002, 0.86783338, 0.62922169,\n",
       "       0.46596213, 0.20383569, 0.27382585, 0.48155311, 0.2439618 ,\n",
       "       0.7345559 , 0.18647262, 0.17143322, 0.14604689, 0.83044156,\n",
       "       0.71535707, 0.40517943, 0.15604644, 0.58878991, 0.17741822,\n",
       "       0.81837488, 0.84657291, 0.60746906, 0.46964275, 0.16593049,\n",
       "       0.77796835, 0.18099175, 0.694094  , 0.09133647, 0.70268397,\n",
       "       0.2497183 , 0.95029844, 0.11210708, 0.5438445 , 0.85758258,\n",
       "       0.64007488, 0.35083734, 0.42746269, 0.21572421, 0.61099625,\n",
       "       0.82564324, 0.90998518, 0.50548845, 0.02045982, 0.15490578,\n",
       "       0.70164368, 0.35041115, 0.64342153, 0.61722355, 0.49358068,\n",
       "       0.39918442, 0.65755577, 0.09943868, 0.79924938, 0.21292143,\n",
       "       0.65192095, 0.86658975, 0.66870924, 0.44593626, 0.63219778,\n",
       "       0.0801843 , 0.22072486, 0.7554124 , 0.96032085, 0.9615664 ,\n",
       "       0.54632159, 0.77451845, 0.19471898, 0.26962576, 0.81904922,\n",
       "       0.99741425, 0.77799606, 0.09522251, 0.91260145, 0.34246195,\n",
       "       0.29487067, 0.78981868, 0.02604039, 0.42624106, 0.79606038,\n",
       "       0.11307348, 0.51855034, 0.14032987, 0.94467085, 0.77663795,\n",
       "       0.5356313 , 0.07694688, 0.11700321, 0.26582633, 0.04750362])"
      ]
     },
     "execution_count": 9,
     "metadata": {},
     "output_type": "execute_result"
    }
   ],
   "source": [
    "#now let's look into the array\n",
    "massive_array[:100]\n",
    "#cehcking the first 100 values"
   ]
  },
  {
   "cell_type": "code",
   "execution_count": null,
   "id": "994de41f-9b38-4b31-94f4-a789b5ab01e9",
   "metadata": {},
   "outputs": [],
   "source": [
    "#now we will try to use the sum method in this array with both Python and Numpy's methods\n",
    "%timeit sum(massive_array) #Python's method\n",
    "%timeit np.sum(massive_array) #Numpy's method\n",
    "\n",
    "#Timeit Measure execution time of small code snippets"
   ]
  },
  {
   "cell_type": "code",
   "execution_count": null,
   "id": "4885f6c3-c686-430e-b5fa-dc73b9572280",
   "metadata": {},
   "outputs": [],
   "source": [
    "#how big the difference is here\n",
    "#so always remember to use numpy methods on NumPy arrays\n",
    "#let's check some other aggregations"
   ]
  },
  {
   "cell_type": "code",
   "execution_count": null,
   "id": "33a4be91-6f0e-4aa2-88d4-b6fe8f827d85",
   "metadata": {},
   "outputs": [],
   "source": [
    "a2 = np.array([[1, 2.0, 3.3],\n",
    "             [4, 5, 6.5]])"
   ]
  },
  {
   "cell_type": "code",
   "execution_count": null,
   "id": "f65905fd-d9d7-4afd-8e6e-7585280af4a5",
   "metadata": {},
   "outputs": [],
   "source": [
    "np.mean(a2)"
   ]
  },
  {
   "cell_type": "code",
   "execution_count": null,
   "id": "14d7eddf-43c6-401e-9678-6518a091f275",
   "metadata": {},
   "outputs": [],
   "source": [
    "np.max(a2)"
   ]
  },
  {
   "cell_type": "code",
   "execution_count": null,
   "id": "0edf1daa-af13-4a32-a8c8-6f01035d17f0",
   "metadata": {},
   "outputs": [],
   "source": [
    "np.min(a2)"
   ]
  },
  {
   "cell_type": "code",
   "execution_count": null,
   "id": "6b98ca1f-32ba-4624-b443-77c02d0d6979",
   "metadata": {},
   "outputs": [],
   "source": [
    "np.std(a2)"
   ]
  },
  {
   "cell_type": "code",
   "execution_count": null,
   "id": "c411e917-5333-4008-896e-d4943c1d7344",
   "metadata": {},
   "outputs": [],
   "source": [
    "np.var(a2)"
   ]
  },
  {
   "cell_type": "code",
   "execution_count": null,
   "id": "5dc2a179-6b9c-4c54-963f-23517e6e710d",
   "metadata": {},
   "outputs": [],
   "source": []
  }
 ],
 "metadata": {
  "kernelspec": {
   "display_name": "Python 3 (ipykernel)",
   "language": "python",
   "name": "python3"
  },
  "language_info": {
   "codemirror_mode": {
    "name": "ipython",
    "version": 3
   },
   "file_extension": ".py",
   "mimetype": "text/x-python",
   "name": "python",
   "nbconvert_exporter": "python",
   "pygments_lexer": "ipython3",
   "version": "3.12.4"
  }
 },
 "nbformat": 4,
 "nbformat_minor": 5
}
