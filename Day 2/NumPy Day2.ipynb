{
 "cells": [
  {
   "cell_type": "markdown",
   "id": "c5df3049-8381-4a0d-bcff-b6dcdf5f0312",
   "metadata": {},
   "source": [
    "## Creating Arrays"
   ]
  },
  {
   "cell_type": "code",
   "execution_count": 2,
   "id": "67ca70cc-fd4c-4e5f-812d-fcafb38f3368",
   "metadata": {},
   "outputs": [],
   "source": [
    "import numpy as np"
   ]
  },
  {
   "cell_type": "code",
   "execution_count": 3,
   "id": "1df4af99-2ebc-4735-83d3-bfaa49b0deb8",
   "metadata": {},
   "outputs": [
    {
     "data": {
      "text/plain": [
       "array([[1., 1., 1.],\n",
       "       [1., 1., 1.]])"
      ]
     },
     "execution_count": 3,
     "metadata": {},
     "output_type": "execute_result"
    }
   ],
   "source": [
    "ones = np.ones((2,3))\n",
    "#so this function returns us an array filled with 1 in the shape of 2,3\n",
    "#if you press shift+tab you'd know more about this funcitons\n",
    "ones"
   ]
  },
  {
   "cell_type": "code",
   "execution_count": 4,
   "id": "225211bc-462e-4344-83b7-2b8e6c0478bc",
   "metadata": {},
   "outputs": [
    {
     "data": {
      "text/plain": [
       "array([[0., 0., 0.],\n",
       "       [0., 0., 0.]])"
      ]
     },
     "execution_count": 4,
     "metadata": {},
     "output_type": "execute_result"
    }
   ],
   "source": [
    "#similarly we can do this with zeros\n",
    "zeros = np.zeros((2,3))\n",
    "zeros"
   ]
  },
  {
   "cell_type": "code",
   "execution_count": 5,
   "id": "432db761-e9fc-475b-ac03-f7064d6c2f4f",
   "metadata": {},
   "outputs": [
    {
     "data": {
      "text/plain": [
       "array([0, 2, 4, 6, 8])"
      ]
     },
     "execution_count": 5,
     "metadata": {},
     "output_type": "execute_result"
    }
   ],
   "source": [
    "range_array = np.arange(0, 10, 2)\n",
    "range_array"
   ]
  },
  {
   "cell_type": "code",
   "execution_count": 6,
   "id": "f5716821-5eec-44ac-9a1a-8965b5d2a807",
   "metadata": {},
   "outputs": [
    {
     "data": {
      "text/plain": [
       "array([[3, 1, 4, 5, 7],\n",
       "       [0, 5, 9, 4, 9],\n",
       "       [8, 2, 7, 2, 0]])"
      ]
     },
     "execution_count": 6,
     "metadata": {},
     "output_type": "execute_result"
    }
   ],
   "source": [
    "random_array = np.random.randint(0, 10, size=(3,5))\n",
    "random_array"
   ]
  },
  {
   "cell_type": "code",
   "execution_count": 7,
   "id": "292de166-acae-4f6c-bd00-e0f542a35b66",
   "metadata": {},
   "outputs": [
    {
     "data": {
      "text/plain": [
       "array([[0.0425793 , 0.6219145 , 0.69154178, 0.82171472, 0.33651978],\n",
       "       [0.06323917, 0.04062435, 0.09569396, 0.28648051, 0.60435051],\n",
       "       [0.73532619, 0.79508539, 0.18912279, 0.88843572, 0.52065079]])"
      ]
     },
     "execution_count": 7,
     "metadata": {},
     "output_type": "execute_result"
    }
   ],
   "source": [
    "random_array2 = np.random.random((3,5))\n",
    "random_array2"
   ]
  },
  {
   "cell_type": "code",
   "execution_count": 38,
   "id": "08c2e4d1-e159-4965-a333-a004e48571f0",
   "metadata": {},
   "outputs": [
    {
     "data": {
      "text/plain": [
       "array([[0.90959353, 0.21338535, 0.45212396, 0.93120602, 0.02489923],\n",
       "       [0.60054892, 0.9501295 , 0.23030288, 0.54848992, 0.90912837],\n",
       "       [0.13316945, 0.52341258, 0.75040986, 0.66901324, 0.46775286]])"
      ]
     },
     "execution_count": 38,
     "metadata": {},
     "output_type": "execute_result"
    }
   ],
   "source": [
    "random_array3 = np.random.rand(3,5)\n",
    "random_array3"
   ]
  },
  {
   "cell_type": "code",
   "execution_count": 42,
   "id": "339581d0-f2bd-46e0-93c3-f684272f2bbd",
   "metadata": {},
   "outputs": [
    {
     "data": {
      "text/plain": [
       "array([[0.07630829, 0.77991879, 0.43840923, 0.72346518, 0.97798951],\n",
       "       [0.53849587, 0.50112046, 0.07205113, 0.26843898, 0.4998825 ],\n",
       "       [0.67923   , 0.80373904, 0.38094113, 0.06593635, 0.2881456 ]])"
      ]
     },
     "execution_count": 42,
     "metadata": {},
     "output_type": "execute_result"
    }
   ],
   "source": [
    "# to use random numbers, but they will be the same after running multiple times.\n",
    "#we can use the seed function\n",
    "\n",
    "np.random.seed(7)\n",
    "random_array4 = np.random.rand(3,5)\n",
    "random_array4"
   ]
  },
  {
   "cell_type": "code",
   "execution_count": null,
   "id": "e87efcb0-8b76-42fb-9f9a-72bcee12e0bf",
   "metadata": {},
   "outputs": [],
   "source": [
    "#now you'd see even if i run the cell 1000 times the values of the array won't change"
   ]
  },
  {
   "cell_type": "code",
   "execution_count": null,
   "id": "b8c19339-de6b-4def-9111-da48a074e088",
   "metadata": {},
   "outputs": [],
   "source": []
  }
 ],
 "metadata": {
  "kernelspec": {
   "display_name": "Python 3 (ipykernel)",
   "language": "python",
   "name": "python3"
  },
  "language_info": {
   "codemirror_mode": {
    "name": "ipython",
    "version": 3
   },
   "file_extension": ".py",
   "mimetype": "text/x-python",
   "name": "python",
   "nbconvert_exporter": "python",
   "pygments_lexer": "ipython3",
   "version": "3.12.4"
  }
 },
 "nbformat": 4,
 "nbformat_minor": 5
}
