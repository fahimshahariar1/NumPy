{
 "cells": [
  {
   "cell_type": "markdown",
   "id": "c5df3049-8381-4a0d-bcff-b6dcdf5f0312",
   "metadata": {},
   "source": [
    "## Creating Arrays"
   ]
  },
  {
   "cell_type": "code",
   "execution_count": 4,
   "id": "67ca70cc-fd4c-4e5f-812d-fcafb38f3368",
   "metadata": {},
   "outputs": [],
   "source": [
    "import numpy as np"
   ]
  },
  {
   "cell_type": "code",
   "execution_count": 10,
   "id": "1df4af99-2ebc-4735-83d3-bfaa49b0deb8",
   "metadata": {},
   "outputs": [
    {
     "data": {
      "text/plain": [
       "array([[1., 1., 1.],\n",
       "       [1., 1., 1.]])"
      ]
     },
     "execution_count": 10,
     "metadata": {},
     "output_type": "execute_result"
    }
   ],
   "source": [
    "ones = np.ones((2,3))\n",
    "#so this function returns us an array filled with 1 in the shape of 2,3\n",
    "#if you press shift+tab you'd know more about this funcitons\n",
    "ones"
   ]
  },
  {
   "cell_type": "code",
   "execution_count": 14,
   "id": "225211bc-462e-4344-83b7-2b8e6c0478bc",
   "metadata": {},
   "outputs": [
    {
     "data": {
      "text/plain": [
       "array([[0., 0., 0.],\n",
       "       [0., 0., 0.]])"
      ]
     },
     "execution_count": 14,
     "metadata": {},
     "output_type": "execute_result"
    }
   ],
   "source": [
    "#similarly we can do this with zeros\n",
    "zeros = np.zeros((2,3))\n",
    "zeros"
   ]
  },
  {
   "cell_type": "code",
   "execution_count": 16,
   "id": "432db761-e9fc-475b-ac03-f7064d6c2f4f",
   "metadata": {},
   "outputs": [
    {
     "data": {
      "text/plain": [
       "array([0, 2, 4, 6, 8])"
      ]
     },
     "execution_count": 16,
     "metadata": {},
     "output_type": "execute_result"
    }
   ],
   "source": [
    "range_array = np.arange(0, 10, 2)\n",
    "range_array"
   ]
  },
  {
   "cell_type": "code",
   "execution_count": 18,
   "id": "f5716821-5eec-44ac-9a1a-8965b5d2a807",
   "metadata": {},
   "outputs": [
    {
     "data": {
      "text/plain": [
       "array([[5, 7, 9, 5, 8],\n",
       "       [6, 4, 4, 2, 9],\n",
       "       [6, 2, 4, 7, 9]])"
      ]
     },
     "execution_count": 18,
     "metadata": {},
     "output_type": "execute_result"
    }
   ],
   "source": [
    "random_array = np.random.randint(0, 10, size=(3,5))\n",
    "random_array"
   ]
  },
  {
   "cell_type": "code",
   "execution_count": 20,
   "id": "292de166-acae-4f6c-bd00-e0f542a35b66",
   "metadata": {},
   "outputs": [
    {
     "data": {
      "text/plain": [
       "array([[0.28607227, 0.84795523, 0.2663838 , 0.59961308, 0.90548019],\n",
       "       [0.3029023 , 0.05254982, 0.47057082, 0.80474838, 0.67174929],\n",
       "       [0.7188403 , 0.67985777, 0.85319847, 0.02067721, 0.34624473]])"
      ]
     },
     "execution_count": 20,
     "metadata": {},
     "output_type": "execute_result"
    }
   ],
   "source": [
    "random_array2 = np.random.random((3,5))\n",
    "random_array2"
   ]
  },
  {
   "cell_type": "code",
   "execution_count": 22,
   "id": "08c2e4d1-e159-4965-a333-a004e48571f0",
   "metadata": {},
   "outputs": [
    {
     "data": {
      "text/plain": [
       "array([[0.16629934, 0.78854713, 0.45822038, 0.65510696, 0.13247236],\n",
       "       [0.00672382, 0.08113287, 0.97797774, 0.13863982, 0.95511844],\n",
       "       [0.40590709, 0.49825163, 0.552838  , 0.94120752, 0.35477522]])"
      ]
     },
     "execution_count": 22,
     "metadata": {},
     "output_type": "execute_result"
    }
   ],
   "source": [
    "random_array3 = np.random.rand(3,5)\n",
    "random_array3"
   ]
  },
  {
   "cell_type": "code",
   "execution_count": null,
   "id": "339581d0-f2bd-46e0-93c3-f684272f2bbd",
   "metadata": {},
   "outputs": [],
   "source": []
  }
 ],
 "metadata": {
  "kernelspec": {
   "display_name": "Python 3 (ipykernel)",
   "language": "python",
   "name": "python3"
  },
  "language_info": {
   "codemirror_mode": {
    "name": "ipython",
    "version": 3
   },
   "file_extension": ".py",
   "mimetype": "text/x-python",
   "name": "python",
   "nbconvert_exporter": "python",
   "pygments_lexer": "ipython3",
   "version": "3.12.4"
  }
 },
 "nbformat": 4,
 "nbformat_minor": 5
}
